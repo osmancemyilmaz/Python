{
 "cells": [
  {
   "cell_type": "code",
   "execution_count": 1,
   "id": "ff028b9a",
   "metadata": {},
   "outputs": [],
   "source": [
    "import pandas as pd\n",
    "import numpy as np\n",
    "import tabula\n",
    "\n",
    "pd.options.mode.chained_assignment = None"
   ]
  },
  {
   "cell_type": "code",
   "execution_count": 2,
   "id": "dceb90b2",
   "metadata": {},
   "outputs": [],
   "source": [
    "# Source: https://www.teias.gov.tr/kurulu-guc-raporlari\n",
    "# The methods used to extract data from PDF files differ according to files. Multiple functions are written because of that."
   ]
  },
  {
   "cell_type": "code",
   "execution_count": 3,
   "id": "14399cf5",
   "metadata": {},
   "outputs": [],
   "source": [
    "def extract_pdf1(path, date):\n",
    "    pdf_path = path\n",
    "    dfs = tabula.read_pdf(pdf_path, pages='1')\n",
    "    df = dfs[1]\n",
    "    df = df.set_index(['Unnamed: 0'])\n",
    "    df.rename({'AKARSU':'River', 'ASFALTİT KÖMÜR':'Asphaltite Coal', 'ATIK ISI': 'Waste Heat', 'BARAJLI': 'Dam',\\\n",
    "               'BİYOKÜTLE':'Biomass', 'DOĞALGAZ':'Natural Gas', 'FUEL OİL':'Fuel Oil', 'GÜNEŞ': 'Solar','İTHAL KÖMÜR': 'Import Coal',\\\n",
    "               'JEOTERMAL':'Geothermal', 'LİNYİT':'Lignite', 'MOTORİN':'Diesel', 'NAFTA':'Naptha',\\\n",
    "               'RÜZGAR':'Wind', 'TAŞKÖMÜR': 'Hard Coal' }, inplace=True)\n",
    "    df = df.iloc[3:, :]\n",
    "    df.reset_index(inplace=True)\n",
    "    df.rename(columns ={'Unnamed: 0':'Primary Source', 'Unnamed: 3':'Installed Capacity'}, inplace=True)\n",
    "    df = df.iloc[:-1,[0, 4]]\n",
    "    df['Date'] = date\n",
    "    return df"
   ]
  },
  {
   "cell_type": "code",
   "execution_count": 4,
   "id": "e005f3ee",
   "metadata": {},
   "outputs": [],
   "source": [
    "def extract_pdf2(path, date):\n",
    "    pdf_path = path\n",
    "    dfs = tabula.read_pdf(pdf_path, pages='1')\n",
    "    df = dfs[2]\n",
    "    df = df.set_index(['Unnamed: 0'])\n",
    "    df.rename({'AKARSU':'River', 'ASFALTİT KÖMÜR':'Asphaltite Coal', 'ATIK ISI': 'Waste Heat', 'BARAJLI': 'Dam',\\\n",
    "               'BİYOKÜTLE':'Biomass', 'DOĞALGAZ':'Natural Gas', 'FUEL OİL':'Fuel Oil', 'GÜNEŞ': 'Solar','İTHAL KÖMÜR': 'Import Coal',\\\n",
    "               'JEOTERMAL':'Geothermal', 'LİNYİT':'Lignite', 'MOTORİN':'Diesel', 'NAFTA':'Naptha',\\\n",
    "               'RÜZGAR':'Wind', 'TAŞKÖMÜR': 'Hard Coal' }, inplace=True)\n",
    "    df = df.iloc[3:, :]\n",
    "    df.reset_index(inplace=True)\n",
    "    df.rename(columns ={'Unnamed: 0':'Primary Source', 'Unnamed: 3':'Installed Capacity'}, inplace=True)\n",
    "    df = df.iloc[:-1,[0, 4]]\n",
    "    df['Date'] = date\n",
    "    return df"
   ]
  },
  {
   "cell_type": "code",
   "execution_count": 5,
   "id": "47d6d0b0",
   "metadata": {},
   "outputs": [],
   "source": [
    "def extract_pdf3(path, date):\n",
    "    pdf_path = path\n",
    "    dfs = tabula.read_pdf(pdf_path, pages='1')\n",
    "    df = dfs[1]\n",
    "    df = df.set_index(['Unnamed: 0'])\n",
    "    df = df.iloc[2:, :]\n",
    "    df.reset_index(inplace=True)\n",
    "    df['Primary Source'] = df['Unnamed: 0'].str.extract('([A-Z\\İ\\Ö\\Ü\\Ğ\\Ş\\s]+)', expand=False).str.strip()\n",
    "    df['Primary Source'] = df['Primary Source'].replace(['AKARSU', 'ASFALTİT KÖMÜR', 'ATIK ISI', 'BARAJLI', \n",
    "                                                        'BİYOKÜTLE', 'DOĞALGAZ', 'FUEL OİL', 'GÜNEŞ', 'İTHAL KÖMÜR', \n",
    "                                                        'JEOTERMAL', 'LİNYİT', 'MOTORİN', 'NAFTA', 'RÜZGAR', 'TAŞKÖMÜR'],\n",
    "                                                        ['River', 'Asphaltite Coal', 'Waste Heat', 'Dam', 'Biomass',\n",
    "                                                         'Natural Gas', 'Fuel Oil', 'Solar', 'Import Coal', 'Geothermal', 'Lignite',\n",
    "                                                         'Diesel', 'Naptha', 'Wind', 'Hard Coal'])\n",
    "    df.rename(columns ={'Unnamed: 2':'Installed Capacity'}, inplace=True)\n",
    "    df = df.iloc[:-1,[4, 3]]\n",
    "    df['Date'] = date\n",
    "    return df"
   ]
  },
  {
   "cell_type": "code",
   "execution_count": 6,
   "id": "e41a0674",
   "metadata": {},
   "outputs": [],
   "source": [
    "def extract_pdf4(path, date):\n",
    "    pdf_path = path\n",
    "    dfs = tabula.read_pdf(pdf_path, pages='1')\n",
    "    df = dfs[1]\n",
    "    df = df.set_index(['Unnamed: 0'])\n",
    "    df = df.iloc[2:, :]\n",
    "    df.reset_index(inplace=True)\n",
    "    df['Primary Source'] = df['Unnamed: 0'].str.extract('([A-Z\\İ\\Ö\\Ü\\Ğ\\Ş\\s]+)', expand=False).str.strip()\n",
    "    df['Primary Source'] = df['Primary Source'].replace(['AKARSU', 'ASFALTİT KÖMÜR', 'ATIK ISI', 'BARAJLI', \n",
    "                                                        'BİYOKÜTLE', 'DOĞALGAZ', 'FUEL OİL', 'GÜNEŞ', 'İTHAL KÖMÜR', \n",
    "                                                        'JEOTERMAL', 'LİNYİT', 'MOTORİN', 'NAFTA', 'RÜZGAR', 'TAŞKÖMÜR'],\n",
    "                                                        ['River', 'Asphaltite Coal', 'Waste Heat', 'Dam', 'Biomass',\n",
    "                                                         'Natural Gas', 'Fuel Oil', 'Solar', 'Import Coal', 'Geothermal', 'Lignite',\n",
    "                                                         'Diesel', 'Naptha', 'Wind', 'Hard Coal'])\n",
    "    df.rename(columns ={'Unnamed: 1':'Installed Capacity'}, inplace=True)\n",
    "    df = df.iloc[:-1,[3, 2]]\n",
    "    df['Date'] = date\n",
    "    return df"
   ]
  },
  {
   "cell_type": "code",
   "execution_count": 7,
   "id": "e393a6c6",
   "metadata": {},
   "outputs": [],
   "source": [
    "def extract_pdf5(path, date):\n",
    "    pdf_path = path\n",
    "    dfs = tabula.read_pdf(pdf_path, pages='1')\n",
    "    df = dfs[4]\n",
    "    df = df.set_index(['Unnamed: 0'])\n",
    "    df = df.iloc[2:, :]\n",
    "    df.reset_index(inplace=True)\n",
    "    df['Primary Source'] = df['Unnamed: 0'].str.extract('([A-Z\\İ\\Ö\\Ü\\Ğ\\Ş\\s]+)', expand=False).str.strip()\n",
    "    df['Primary Source'] = df['Primary Source'].replace(['AKARSU', 'ASFALTİT KÖMÜR', 'ATIK ISI', 'BARAJLI', \n",
    "                                                        'BİYOKÜTLE', 'DOĞALGAZ', 'FUEL OİL', 'GÜNEŞ', 'İTHAL KÖMÜR', \n",
    "                                                        'JEOTERMAL', 'LİNYİT', 'MOTORİN', 'NAFTA', 'RÜZGAR', 'TAŞKÖMÜR'],\n",
    "                                                        ['River', 'Asphaltite Coal', 'Waste Heat', 'Dam', 'Biomass',\n",
    "                                                         'Gas', 'Fuel Oil', 'Sun', 'Import Coal', 'Geothermal', 'Lignite',\n",
    "                                                         'Diesel', 'Naptha', 'Wind', 'Hard Coal'])\n",
    "    df.rename(columns ={'Unnamed: 1':'Installed Capacity'}, inplace=True)\n",
    "    df = df.iloc[:-1,[3, 2]]\n",
    "    df['Date'] = date\n",
    "    return df"
   ]
  },
  {
   "cell_type": "code",
   "execution_count": 8,
   "id": "9bc0e89b",
   "metadata": {},
   "outputs": [],
   "source": [
    "def extract_pdf6(path, date):\n",
    "    pdf_path = path\n",
    "    dfs = tabula.read_pdf(pdf_path, pages='1')\n",
    "    df = dfs[1]\n",
    "    df = df.set_index(['Unnamed: 0'])\n",
    "    df.rename({'AKARSU':'River', 'ASFALTİT KÖMÜR':'Asphaltite Coal', 'ATIK ISI': 'Waste Heat', 'BARAJLI': 'Dam',\n",
    "               'BİYOKÜTLE':'Biomass', 'DOĞALGAZ':'Natural Gas', 'FUEL OİL':'Fuel Oil', 'GÜNEŞ': 'Solar','İTHAL KÖMÜR': 'Import Coal',\n",
    "               'JEOTERMAL':'Geothermal', 'LİNYİT':'Lignite', 'MOTORİN':'Diesel', 'NAFTA':'Naptha',\n",
    "               'RÜZGAR':'Wind', 'TAŞKÖMÜR': 'Hard Coal' }, inplace=True)\n",
    "    df = df.iloc[3:, :]\n",
    "    df.reset_index(inplace=True)\n",
    "    df.rename(columns ={'Unnamed: 0':'Primary Source', 'Unnamed: 2':'Installed Capacity'}, inplace=True)\n",
    "    df = df.iloc[:-1,[0, 3]]\n",
    "    df['Date'] = date\n",
    "    return df"
   ]
  },
  {
   "cell_type": "code",
   "execution_count": 9,
   "id": "d3fcfa6b",
   "metadata": {},
   "outputs": [],
   "source": [
    "def extract_pdf7(path, date):\n",
    "    pdf_path = path\n",
    "    dfs = tabula.read_pdf(pdf_path, pages='1')\n",
    "    df = dfs[0]\n",
    "    df = df.iloc[3:, :]\n",
    "    df['Unnamed: 0'] = df['Unnamed: 0'].apply(lambda x : x.upper())\n",
    "    df = df.set_index(['Unnamed: 0'])\n",
    "    df.rename({'AKARSU':'River', 'ASFALTIT KÖMÜR':'Asphaltite Coal', 'ATIK ISI': 'Waste Heat', 'BARAJLI': 'Dam',\\\n",
    "               'BIYOKÜTLE':'Biomass', 'DOĞALGAZ':'Natural Gas', 'FUEL OIL':'Fuel Oil', 'GÜNEŞ': 'Solar','İTHAL KÖMÜR': 'Import Coal',\\\n",
    "               'JEOTERMAL':'Geothermal', 'LINYIT':'Lignite', 'MOTORIN':'Diesel', 'NAFTA':'Naptha',\\\n",
    "               'RÜZGAR':'Wind', 'TAŞKÖMÜR': 'Hard Coal' }, inplace=True)\n",
    "    df.reset_index(inplace=True)\n",
    "    df.rename(columns ={'Unnamed: 0':'Primary Source', 'Unnamed: 2':'Installed Capacity'}, inplace=True)\n",
    "    df = df.iloc[:-1,[0, 3]]\n",
    "    df['Date'] = date\n",
    "    return df"
   ]
  },
  {
   "cell_type": "code",
   "execution_count": 10,
   "id": "6b7bf63f",
   "metadata": {},
   "outputs": [],
   "source": [
    "def extract_pdf8(path, date):\n",
    "    pdf_path = path\n",
    "    dfs = tabula.read_pdf(pdf_path, pages='1')\n",
    "    df = dfs[5]\n",
    "    df = df.iloc[3:, :]\n",
    "    df['Unnamed: 0'] = df['Unnamed: 0'].apply(lambda x : x.upper())\n",
    "    df = df.set_index(['Unnamed: 0'])\n",
    "    df.rename({'AKARSU':'River', 'ASFALTIT KÖMÜR':'Asphaltite Coal', 'ATIK ISI': 'Waste Heat', 'BARAJLI': 'Dam',\n",
    "               'BIYOKÜTLE':'Biomass', 'DOĞALGAZ':'Natural Gas', 'FUEL OIL':'Fuel Oil', 'GÜNEŞ': 'Solar','İTHAL KÖMÜR': 'Import Coal',\n",
    "               'JEOTERMAL':'Geothermal', 'LINYIT':'Lignite', 'MOTORIN':'Diesel', 'NAFTA':'Naptha',\n",
    "               'RÜZGAR':'Wind', 'TAŞKÖMÜR': 'Hard Coal' }, inplace=True)\n",
    "    df.reset_index(inplace=True)\n",
    "    df.rename(columns ={'Unnamed: 0':'Primary Source', 'Unnamed: 2':'Installed Capacity'}, inplace=True)\n",
    "    df = df.iloc[:-1,[0, 3]]\n",
    "    df['Date'] = date\n",
    "    return df"
   ]
  },
  {
   "cell_type": "code",
   "execution_count": 11,
   "id": "95350cce",
   "metadata": {},
   "outputs": [],
   "source": [
    "def extract_pdf9(path, date):\n",
    "    pdf_path = path\n",
    "    dfs = tabula.read_pdf(pdf_path, pages='1')\n",
    "    df = dfs[0]\n",
    "    df = df.iloc[3:, :]\n",
    "    df['Unnamed: 0'] = df['Unnamed: 0'].apply(lambda x : x.upper())\n",
    "    df = df.set_index(['Unnamed: 0'])\n",
    "    df.rename({'AKARSU':'River', 'ASFALTİT KÖMÜR':'Asphaltite Coal', 'ATIK ISI': 'Waste Heat', 'BARAJLI': 'Dam',\\\n",
    "               'BİYOKÜTLE':'Biomass', 'DOĞALGAZ':'Natural Gas', 'FUEL OİL':'Fuel Oil', 'GÜNEŞ': 'Solar','İTHAL KÖMÜR': 'Import Coal',\\\n",
    "               'JEOTERMAL':'Geothermal', 'LİNYİT':'Lignite', 'MOTORİN':'Diesel', 'NAFTA':'Naptha',\\\n",
    "               'RÜZGAR':'Wind', 'TAŞKÖMÜR': 'Hard Coal' }, inplace=True)\n",
    "    df.reset_index(inplace=True)\n",
    "    df.rename(columns ={'Unnamed: 0':'Primary Source', 'Unnamed: 2':'Installed Capacity'}, inplace=True)\n",
    "    df = df.iloc[:-1,[0, 3]]\n",
    "    df['Date'] = date\n",
    "    return df"
   ]
  },
  {
   "cell_type": "code",
   "execution_count": 12,
   "id": "22483ef5",
   "metadata": {},
   "outputs": [],
   "source": [
    "# The related table is extracted from files then concated to the dataframe.\n",
    "df1 = extract_pdf1('Subat2019.pdf', '2019-02-28')"
   ]
  },
  {
   "cell_type": "code",
   "execution_count": 13,
   "id": "53488402",
   "metadata": {},
   "outputs": [],
   "source": [
    "df2 = extract_pdf1('Mart2019.pdf', '2019-03-21')\n",
    "df_mw = pd.concat([df1,df2])"
   ]
  },
  {
   "cell_type": "code",
   "execution_count": 14,
   "id": "12638897",
   "metadata": {},
   "outputs": [],
   "source": [
    "df3 = extract_pdf1('Nisan2019.pdf', '2019-04-30')\n",
    "df_mw = pd.concat([df_mw, df3])"
   ]
  },
  {
   "cell_type": "code",
   "execution_count": 15,
   "id": "c3b22e09",
   "metadata": {},
   "outputs": [],
   "source": [
    "df4 = extract_pdf1('Mayis2019.pdf', '2019-05-31')\n",
    "df_mw = pd.concat([df_mw, df4])"
   ]
  },
  {
   "cell_type": "code",
   "execution_count": 16,
   "id": "b47ea40c",
   "metadata": {},
   "outputs": [],
   "source": [
    "df5 = extract_pdf1('Haziran2019.pdf', '2019-06-30')\n",
    "df_mw = pd.concat([df_mw, df5])"
   ]
  },
  {
   "cell_type": "code",
   "execution_count": 17,
   "id": "9b8ae47d",
   "metadata": {},
   "outputs": [],
   "source": [
    "df6 = extract_pdf1('Temmuz2019.pdf', '2019-07-31')\n",
    "df_mw = pd.concat([df_mw, df6])"
   ]
  },
  {
   "cell_type": "code",
   "execution_count": 18,
   "id": "a375c82f",
   "metadata": {},
   "outputs": [],
   "source": [
    "df7 = extract_pdf1('Agustos2019.pdf', '2019-08-31')\n",
    "df_mw = pd.concat([df_mw, df7])"
   ]
  },
  {
   "cell_type": "code",
   "execution_count": 19,
   "id": "62a59dee",
   "metadata": {},
   "outputs": [],
   "source": [
    "df8 = extract_pdf1('Eylul2019.pdf', '2019-09-30')\n",
    "df_mw = pd.concat([df_mw, df8])"
   ]
  },
  {
   "cell_type": "code",
   "execution_count": 20,
   "id": "a962c8be",
   "metadata": {
    "scrolled": true
   },
   "outputs": [],
   "source": [
    "df9 = extract_pdf2('Ekim2019.pdf', '2019-10-31')\n",
    "df_mw = pd.concat([df_mw, df9])"
   ]
  },
  {
   "cell_type": "code",
   "execution_count": 21,
   "id": "76970e92",
   "metadata": {
    "scrolled": true
   },
   "outputs": [],
   "source": [
    "df10 = extract_pdf2('Kasim2019.pdf', '2019-11-30')\n",
    "df_mw = pd.concat([df_mw, df10])"
   ]
  },
  {
   "cell_type": "code",
   "execution_count": 22,
   "id": "be183d39",
   "metadata": {},
   "outputs": [],
   "source": [
    "df11 = extract_pdf3('Aralik2019.pdf', '2019-12-31')\n",
    "df_mw = pd.concat([df_mw, df11])"
   ]
  },
  {
   "cell_type": "code",
   "execution_count": 23,
   "id": "4801cedd",
   "metadata": {},
   "outputs": [],
   "source": [
    "df12 = extract_pdf4('Ocak2020.pdf', '2020-01-31')\n",
    "df_mw = pd.concat([df_mw, df12])"
   ]
  },
  {
   "cell_type": "code",
   "execution_count": 24,
   "id": "bd4c7203",
   "metadata": {},
   "outputs": [],
   "source": [
    "df13 = extract_pdf4('Subat2020.pdf', '2020-02-29')\n",
    "df_mw = pd.concat([df_mw, df13])"
   ]
  },
  {
   "cell_type": "code",
   "execution_count": 25,
   "id": "49439cb5",
   "metadata": {},
   "outputs": [],
   "source": [
    "df14 = extract_pdf4('Mart2020.pdf', '2020-03-31')\n",
    "df_mw = pd.concat([df_mw, df14])"
   ]
  },
  {
   "cell_type": "code",
   "execution_count": 26,
   "id": "80b48bfa",
   "metadata": {},
   "outputs": [],
   "source": [
    "df15 = extract_pdf4('Nisan2020.pdf', '2020-04-30')\n",
    "df_mw = pd.concat([df_mw, df15])"
   ]
  },
  {
   "cell_type": "code",
   "execution_count": 27,
   "id": "5b727cad",
   "metadata": {},
   "outputs": [],
   "source": [
    "df16 = extract_pdf4('Mayis2020.pdf', '2020-05-31')\n",
    "df_mw = pd.concat([df_mw, df16])"
   ]
  },
  {
   "cell_type": "code",
   "execution_count": 28,
   "id": "90e9e868",
   "metadata": {},
   "outputs": [],
   "source": [
    "df17 = extract_pdf4('Haziran2020.pdf', '2020-06-30')\n",
    "df_mw = pd.concat([df_mw, df17])"
   ]
  },
  {
   "cell_type": "code",
   "execution_count": 29,
   "id": "a5a2f456",
   "metadata": {},
   "outputs": [],
   "source": [
    "df18 = extract_pdf4('Temmuz2020.pdf', '2020-07-31')\n",
    "df_mw = pd.concat([df_mw, df18])"
   ]
  },
  {
   "cell_type": "code",
   "execution_count": 30,
   "id": "90c7d705",
   "metadata": {},
   "outputs": [],
   "source": [
    "df19 = extract_pdf4('Agustos2020.pdf', '2020-08-31')\n",
    "df_mw = pd.concat([df_mw, df19])"
   ]
  },
  {
   "cell_type": "code",
   "execution_count": 31,
   "id": "de4a86a2",
   "metadata": {},
   "outputs": [],
   "source": [
    "df20 = extract_pdf4('Eylul2020.pdf', '2020-09-30')\n",
    "df_mw = pd.concat([df_mw, df20])"
   ]
  },
  {
   "cell_type": "code",
   "execution_count": 32,
   "id": "e21d3559",
   "metadata": {},
   "outputs": [],
   "source": [
    "df21 = extract_pdf4('Ekim2020.pdf', '2020-10-31')\n",
    "df_mw = pd.concat([df_mw, df21])"
   ]
  },
  {
   "cell_type": "code",
   "execution_count": 33,
   "id": "6ce55a79",
   "metadata": {},
   "outputs": [],
   "source": [
    "df22 = extract_pdf4('Kasim2020.pdf', '2020-11-30')\n",
    "df_mw = pd.concat([df_mw, df22])"
   ]
  },
  {
   "cell_type": "code",
   "execution_count": 34,
   "id": "d0f0984a",
   "metadata": {},
   "outputs": [],
   "source": [
    "df23 = extract_pdf4('Aralik2020.pdf', '2020-12-31')\n",
    "df_mw = pd.concat([df_mw, df23])"
   ]
  },
  {
   "cell_type": "code",
   "execution_count": 35,
   "id": "03b64330",
   "metadata": {
    "scrolled": true
   },
   "outputs": [],
   "source": [
    "df24 = extract_pdf9('Ocak2021.pdf', '2021-01-31')\n",
    "df_mw = pd.concat([df_mw, df24])"
   ]
  },
  {
   "cell_type": "code",
   "execution_count": 36,
   "id": "17355287",
   "metadata": {
    "scrolled": true
   },
   "outputs": [],
   "source": [
    "df25 = extract_pdf9('Subat2021.pdf', '2021-02-28')\n",
    "df_mw = pd.concat([df_mw, df25])"
   ]
  },
  {
   "cell_type": "code",
   "execution_count": 37,
   "id": "c50b7f56",
   "metadata": {},
   "outputs": [],
   "source": [
    "df26 = extract_pdf5('Mart2021.pdf', '2021-03-31')\n",
    "df_mw = pd.concat([df_mw, df26])"
   ]
  },
  {
   "cell_type": "code",
   "execution_count": 38,
   "id": "31b05019",
   "metadata": {},
   "outputs": [],
   "source": [
    "df27 = extract_pdf4('Nisan2021.pdf', '2021-04-30')\n",
    "df_mw = pd.concat([df_mw, df27])"
   ]
  },
  {
   "cell_type": "code",
   "execution_count": 39,
   "id": "d6698537",
   "metadata": {},
   "outputs": [],
   "source": [
    "df28 = extract_pdf5('Mayis2021.pdf', '2021-05-31')\n",
    "df_mw = pd.concat([df_mw, df28])"
   ]
  },
  {
   "cell_type": "code",
   "execution_count": 40,
   "id": "aca70419",
   "metadata": {},
   "outputs": [],
   "source": [
    "df29 = extract_pdf5('Haziran2021.pdf', '2021-06-30')\n",
    "df_mw = pd.concat([df_mw, df29])"
   ]
  },
  {
   "cell_type": "code",
   "execution_count": 41,
   "id": "1c7c7c07",
   "metadata": {},
   "outputs": [],
   "source": [
    "df30 = extract_pdf5('Temmuz2021.pdf', '2021-07-31')\n",
    "df_mw = pd.concat([df_mw, df30])"
   ]
  },
  {
   "cell_type": "code",
   "execution_count": 42,
   "id": "d4034094",
   "metadata": {},
   "outputs": [],
   "source": [
    "df31 = extract_pdf5('Agustos2021.pdf', '2021-08-31')\n",
    "df_mw = pd.concat([df_mw, df31])"
   ]
  },
  {
   "cell_type": "code",
   "execution_count": 43,
   "id": "7b2c6000",
   "metadata": {},
   "outputs": [],
   "source": [
    "df32 = extract_pdf6('Eylul2021.pdf', '2021-09-30')\n",
    "df_mw = pd.concat([df_mw, df32])"
   ]
  },
  {
   "cell_type": "code",
   "execution_count": 44,
   "id": "47c9939f",
   "metadata": {},
   "outputs": [],
   "source": [
    "df33 = extract_pdf6('Ekim2021.pdf', '2021-10-31')\n",
    "df_mw = pd.concat([df_mw, df33])"
   ]
  },
  {
   "cell_type": "code",
   "execution_count": 45,
   "id": "b9f92f23",
   "metadata": {},
   "outputs": [],
   "source": [
    "df34 = extract_pdf6('Kasim2021.pdf', '2021-11-30')\n",
    "df_mw = pd.concat([df_mw, df34])"
   ]
  },
  {
   "cell_type": "code",
   "execution_count": 46,
   "id": "2586596e",
   "metadata": {},
   "outputs": [],
   "source": [
    "df35 = extract_pdf6('Aralik2021.pdf', '2021-12-31')\n",
    "df_mw = pd.concat([df_mw, df35])"
   ]
  },
  {
   "cell_type": "code",
   "execution_count": 47,
   "id": "987f10de",
   "metadata": {},
   "outputs": [],
   "source": [
    "df36 = extract_pdf6('Ocak2022.pdf', '2022-01-31')\n",
    "df_mw = pd.concat([df_mw, df36])"
   ]
  },
  {
   "cell_type": "code",
   "execution_count": 48,
   "id": "ff2f4ead",
   "metadata": {},
   "outputs": [],
   "source": [
    "df37 = extract_pdf6('Subat2022.pdf', '2022-02-28')\n",
    "df_mw = pd.concat([df_mw, df37])"
   ]
  },
  {
   "cell_type": "code",
   "execution_count": 49,
   "id": "31b51509",
   "metadata": {},
   "outputs": [],
   "source": [
    "df38 = extract_pdf6('Mart2022.pdf', '2022-03-31')\n",
    "df_mw = pd.concat([df_mw, df38])"
   ]
  },
  {
   "cell_type": "code",
   "execution_count": 50,
   "id": "60552a5f",
   "metadata": {},
   "outputs": [],
   "source": [
    "df39 = extract_pdf6('Nisan2022.pdf', '2022-04-30')\n",
    "df_mw = pd.concat([df_mw, df39])"
   ]
  },
  {
   "cell_type": "code",
   "execution_count": 51,
   "id": "cd97fd9e",
   "metadata": {},
   "outputs": [],
   "source": [
    "df40 = extract_pdf6('Mayis2022.pdf', '2022-05-31')\n",
    "df_mw = pd.concat([df_mw, df40])"
   ]
  },
  {
   "cell_type": "code",
   "execution_count": 52,
   "id": "c3354f21",
   "metadata": {},
   "outputs": [],
   "source": [
    "df41 = extract_pdf1('Haziran2022.pdf', '2022-06-30')\n",
    "df_mw = pd.concat([df_mw, df41])"
   ]
  },
  {
   "cell_type": "code",
   "execution_count": 53,
   "id": "923219eb",
   "metadata": {},
   "outputs": [],
   "source": [
    "df42 = extract_pdf1('Temmuz2022.pdf', '2022-07-31')\n",
    "df_mw = pd.concat([df_mw, df42])"
   ]
  },
  {
   "cell_type": "code",
   "execution_count": 54,
   "id": "64635b8a",
   "metadata": {},
   "outputs": [],
   "source": [
    "df43 = extract_pdf6('Agustos2022.pdf', '2022-08-31')\n",
    "df_mw = pd.concat([df_mw, df43])"
   ]
  },
  {
   "cell_type": "code",
   "execution_count": 55,
   "id": "14e81824",
   "metadata": {},
   "outputs": [],
   "source": [
    "df44 = extract_pdf8('Eylul2022.pdf', '2022-09-30')\n",
    "df_mw = pd.concat([df_mw, df44])"
   ]
  },
  {
   "cell_type": "code",
   "execution_count": 56,
   "id": "b2d600ff",
   "metadata": {},
   "outputs": [],
   "source": [
    "df45 = extract_pdf7('Ekim2022.pdf', '2022-10-31')\n",
    "df_mw = pd.concat([df_mw, df45])"
   ]
  },
  {
   "cell_type": "code",
   "execution_count": 57,
   "id": "38d070a7",
   "metadata": {},
   "outputs": [],
   "source": [
    "df_mw['Installed Capacity']=df_mw['Installed Capacity'].apply(lambda x : x.replace(',', '.'))\n",
    "df_mw['Installed Capacity']=df_mw['Installed Capacity'].apply(lambda x : x.replace('.', '', x.count('.') -1))"
   ]
  },
  {
   "cell_type": "code",
   "execution_count": 58,
   "id": "b22307a1",
   "metadata": {},
   "outputs": [],
   "source": [
    "df_mw['Date'] = df_mw['Date'].apply(lambda x : pd.Timestamp(x))"
   ]
  },
  {
   "cell_type": "code",
   "execution_count": 59,
   "id": "c76f5b4a",
   "metadata": {},
   "outputs": [
    {
     "data": {
      "text/plain": [
       "Primary Source                object\n",
       "Installed Capacity            object\n",
       "Date                  datetime64[ns]\n",
       "dtype: object"
      ]
     },
     "execution_count": 59,
     "metadata": {},
     "output_type": "execute_result"
    }
   ],
   "source": [
    "df_mw.dtypes"
   ]
  },
  {
   "cell_type": "code",
   "execution_count": 60,
   "id": "e32a486f",
   "metadata": {},
   "outputs": [],
   "source": [
    "df_mw.reset_index(inplace=True)\n",
    "df_mw.drop(['index'], axis=1, inplace=True)"
   ]
  },
  {
   "cell_type": "code",
   "execution_count": 61,
   "id": "51ee782a",
   "metadata": {
    "scrolled": true
   },
   "outputs": [
    {
     "data": {
      "text/html": [
       "<div>\n",
       "<style scoped>\n",
       "    .dataframe tbody tr th:only-of-type {\n",
       "        vertical-align: middle;\n",
       "    }\n",
       "\n",
       "    .dataframe tbody tr th {\n",
       "        vertical-align: top;\n",
       "    }\n",
       "\n",
       "    .dataframe thead th {\n",
       "        text-align: right;\n",
       "    }\n",
       "</style>\n",
       "<table border=\"1\" class=\"dataframe\">\n",
       "  <thead>\n",
       "    <tr style=\"text-align: right;\">\n",
       "      <th></th>\n",
       "      <th>Primary Source</th>\n",
       "      <th>Installed Capacity</th>\n",
       "      <th>Date</th>\n",
       "    </tr>\n",
       "  </thead>\n",
       "  <tbody>\n",
       "    <tr>\n",
       "      <th>0</th>\n",
       "      <td>River</td>\n",
       "      <td>7839.1</td>\n",
       "      <td>2019-02-28</td>\n",
       "    </tr>\n",
       "    <tr>\n",
       "      <th>1</th>\n",
       "      <td>Asphaltite Coal</td>\n",
       "      <td>405.0</td>\n",
       "      <td>2019-02-28</td>\n",
       "    </tr>\n",
       "    <tr>\n",
       "      <th>2</th>\n",
       "      <td>Waste Heat</td>\n",
       "      <td>323.0</td>\n",
       "      <td>2019-02-28</td>\n",
       "    </tr>\n",
       "    <tr>\n",
       "      <th>3</th>\n",
       "      <td>Dam</td>\n",
       "      <td>20538.0</td>\n",
       "      <td>2019-02-28</td>\n",
       "    </tr>\n",
       "    <tr>\n",
       "      <th>4</th>\n",
       "      <td>Biomass</td>\n",
       "      <td>659.0</td>\n",
       "      <td>2019-02-28</td>\n",
       "    </tr>\n",
       "    <tr>\n",
       "      <th>5</th>\n",
       "      <td>Natural Gas</td>\n",
       "      <td>25623.8</td>\n",
       "      <td>2019-02-28</td>\n",
       "    </tr>\n",
       "    <tr>\n",
       "      <th>6</th>\n",
       "      <td>Fuel Oil</td>\n",
       "      <td>487.2</td>\n",
       "      <td>2019-02-28</td>\n",
       "    </tr>\n",
       "    <tr>\n",
       "      <th>7</th>\n",
       "      <td>Solar</td>\n",
       "      <td>5238.8</td>\n",
       "      <td>2019-02-28</td>\n",
       "    </tr>\n",
       "    <tr>\n",
       "      <th>8</th>\n",
       "      <td>Import Coal</td>\n",
       "      <td>8938.9</td>\n",
       "      <td>2019-02-28</td>\n",
       "    </tr>\n",
       "    <tr>\n",
       "      <th>9</th>\n",
       "      <td>Geothermal</td>\n",
       "      <td>1302.5</td>\n",
       "      <td>2019-02-28</td>\n",
       "    </tr>\n",
       "    <tr>\n",
       "      <th>10</th>\n",
       "      <td>Lignite</td>\n",
       "      <td>9842.0</td>\n",
       "      <td>2019-02-28</td>\n",
       "    </tr>\n",
       "    <tr>\n",
       "      <th>11</th>\n",
       "      <td>LNG</td>\n",
       "      <td>2.0</td>\n",
       "      <td>2019-02-28</td>\n",
       "    </tr>\n",
       "    <tr>\n",
       "      <th>12</th>\n",
       "      <td>Diesel</td>\n",
       "      <td>1.0</td>\n",
       "      <td>2019-02-28</td>\n",
       "    </tr>\n",
       "    <tr>\n",
       "      <th>13</th>\n",
       "      <td>Naptha</td>\n",
       "      <td>4.7</td>\n",
       "      <td>2019-02-28</td>\n",
       "    </tr>\n",
       "    <tr>\n",
       "      <th>14</th>\n",
       "      <td>Wind</td>\n",
       "      <td>7031.1</td>\n",
       "      <td>2019-02-28</td>\n",
       "    </tr>\n",
       "    <tr>\n",
       "      <th>15</th>\n",
       "      <td>Hard Coal</td>\n",
       "      <td>810.8</td>\n",
       "      <td>2019-02-28</td>\n",
       "    </tr>\n",
       "    <tr>\n",
       "      <th>16</th>\n",
       "      <td>River</td>\n",
       "      <td>7837.2</td>\n",
       "      <td>2019-03-21</td>\n",
       "    </tr>\n",
       "    <tr>\n",
       "      <th>17</th>\n",
       "      <td>Asphaltite Coal</td>\n",
       "      <td>405.0</td>\n",
       "      <td>2019-03-21</td>\n",
       "    </tr>\n",
       "    <tr>\n",
       "      <th>18</th>\n",
       "      <td>Waste Heat</td>\n",
       "      <td>327.4</td>\n",
       "      <td>2019-03-21</td>\n",
       "    </tr>\n",
       "    <tr>\n",
       "      <th>19</th>\n",
       "      <td>Dam</td>\n",
       "      <td>20554.2</td>\n",
       "      <td>2019-03-21</td>\n",
       "    </tr>\n",
       "  </tbody>\n",
       "</table>\n",
       "</div>"
      ],
      "text/plain": [
       "     Primary Source Installed Capacity       Date\n",
       "0             River             7839.1 2019-02-28\n",
       "1   Asphaltite Coal              405.0 2019-02-28\n",
       "2        Waste Heat              323.0 2019-02-28\n",
       "3               Dam            20538.0 2019-02-28\n",
       "4           Biomass              659.0 2019-02-28\n",
       "5       Natural Gas            25623.8 2019-02-28\n",
       "6          Fuel Oil              487.2 2019-02-28\n",
       "7             Solar             5238.8 2019-02-28\n",
       "8       Import Coal             8938.9 2019-02-28\n",
       "9        Geothermal             1302.5 2019-02-28\n",
       "10          Lignite             9842.0 2019-02-28\n",
       "11              LNG                2.0 2019-02-28\n",
       "12           Diesel                1.0 2019-02-28\n",
       "13           Naptha                4.7 2019-02-28\n",
       "14             Wind             7031.1 2019-02-28\n",
       "15        Hard Coal              810.8 2019-02-28\n",
       "16            River             7837.2 2019-03-21\n",
       "17  Asphaltite Coal              405.0 2019-03-21\n",
       "18       Waste Heat              327.4 2019-03-21\n",
       "19              Dam            20554.2 2019-03-21"
      ]
     },
     "execution_count": 61,
     "metadata": {},
     "output_type": "execute_result"
    }
   ],
   "source": [
    "df_mw.head()"
   ]
  },
  {
   "cell_type": "code",
   "execution_count": 62,
   "id": "d46a6db4",
   "metadata": {},
   "outputs": [],
   "source": [
    "# Excel file is created from dataframe to import Tableau.\n",
    "df_mw.to_excel('InstalledCapacity.xlsx')"
   ]
  }
 ],
 "metadata": {
  "kernelspec": {
   "display_name": "Python 3 (ipykernel)",
   "language": "python",
   "name": "python3"
  },
  "language_info": {
   "codemirror_mode": {
    "name": "ipython",
    "version": 3
   },
   "file_extension": ".py",
   "mimetype": "text/x-python",
   "name": "python",
   "nbconvert_exporter": "python",
   "pygments_lexer": "ipython3",
   "version": "3.9.12"
  }
 },
 "nbformat": 4,
 "nbformat_minor": 5
}
